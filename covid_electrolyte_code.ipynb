{
 "cells": [
  {
   "cell_type": "markdown",
   "metadata": {},
   "source": [
    "# Electrolytes in COVID-19 Infection \n",
    "\n",
    "### David K Ryan\n",
    "### Academic Foundation Doctor, St George's Hospital, London \n",
    "\n",
    "\n",
    "_____________"
   ]
  },
  {
   "cell_type": "markdown",
   "metadata": {},
   "source": [
    "This notebook describes the code used to harmonise the data for the Electrolyte Covid Project at St George's Hospital, London.\n",
    "\n",
    "Harmonisation refers to the fact that patients present to hospital at different stages of illness. This code therefore reorganises data to reflect electrolyte tests measurement according to date since symptom onset.\n",
    "\n",
    "No patient data is available online. This notebook describes the code that was used to manipulate data and generate graph for study conducted by team at St George's Hospital. Awaiting publication. "
   ]
  },
  {
   "cell_type": "markdown",
   "metadata": {},
   "source": [
    "____________"
   ]
  },
  {
   "cell_type": "code",
   "execution_count": null,
   "metadata": {},
   "outputs": [],
   "source": [
    "#import libraries \n",
    "import pandas as pd \n",
    "import matplotlib.pyplot as plt\n",
    "%matplotlib inline  \n",
    "import seaborn as sns\n",
    "import numpy as np"
   ]
  },
  {
   "cell_type": "code",
   "execution_count": null,
   "metadata": {},
   "outputs": [],
   "source": [
    "#display settings \n",
    "pd.set_option('display.max_rows', 500)\n",
    "pd.set_option('display.max_columns', 500)\n",
    "pd.set_option('display.width', 500)"
   ]
  },
  {
   "cell_type": "code",
   "execution_count": null,
   "metadata": {},
   "outputs": [],
   "source": [
    "#csv file location \n",
    "#csv_file = 'please-insert-here'\n",
    "\n",
    "#create dataframe \n",
    "#df = pd.read_csv(csv_file)"
   ]
  },
  {
   "cell_type": "code",
   "execution_count": null,
   "metadata": {},
   "outputs": [],
   "source": [
    "#convert to datetime format \n",
    "df['admission_date'] =  pd.to_datetime(df['admission_date'], format = \"%d/%m/%Y\")\n",
    "df['symptom_onset_date'] =  pd.to_datetime(df['symptom_onset_date'], format = \"%d/%m/%Y\")\n",
    "df['swab_positive_date'] = pd.to_datetime(df['swab_positive_date'],  format = \"%d/%m/%Y\")\n",
    "df['outcome_date'] = pd.to_datetime(df['outcome_date'])\n",
    "df['peak_oxygen_requirement_date'] = pd.to_datetime(df['peak_oxygen_requirement_date'])\n",
    "df[ 'wbc_peak_date'] = pd.to_datetime(df['wbc_peak_date'])\n",
    "df['neuts_peak_date'] = pd.to_datetime(df['neuts_peak_date'])\n",
    "df['lymph_low_date'] = pd.to_datetime(df['lymph_low_date'])\n",
    "df['plt_date'] = pd.to_datetime(df['plt_date'])\n",
    "df['d_dimer_date'] = pd.to_datetime(df['d_dimer_date'])\n",
    "df['ferritin_date'] = pd.to_datetime(df['ferritin_date'], errors='coerce')\n",
    "df['crp_date'] = pd.to_datetime(df['crp_date'])\n",
    "df['ldh_date'] = pd.to_datetime(df['ldh_date'])\n",
    "df['trop_date'] = pd.to_datetime(df['trop_date'])\n",
    "df['bili_date'] = pd.to_datetime(df['bili_date'])\n",
    "df['alt_date'] = pd.to_datetime(df['alt_date'])\n",
    "df['alp_date'] = pd.to_datetime(df['alp_date'])\n",
    "df['ggt_date'] = pd.to_datetime(df['ggt_date'])"
   ]
  },
  {
   "cell_type": "code",
   "execution_count": null,
   "metadata": {},
   "outputs": [],
   "source": [
    "#Functions to generate new outcomes \n",
    "\n",
    "def death(row): \n",
    "    \"\"\"Creates a new categorical outcome if patient died during admission\"\"\"\n",
    "    \n",
    "    if row['outcome'] == 'Death': \n",
    "        return(1)\n",
    "    else:\n",
    "        return(0)\n",
    "    \n",
    "df['death'] = df.apply(death, axis=1)\n",
    "\n",
    "\n",
    "def severe(row): \n",
    "    \"\"\"Creates a new categorical outcome for severity of infection\"\"\"\n",
    "    \n",
    "    if row['itu_admission'] == 1: \n",
    "        return(1)\n",
    "    if row['death'] == 1: \n",
    "        return(1)\n",
    "    elif row['peak_ox_requirement'] == 15.0: \n",
    "        return(1)\n",
    "    else: \n",
    "        return(0)\n",
    "    \n",
    "df['severe'] = df.apply(severe, axis=1)\n",
    "\n",
    "#Calculate admisison day of illness \n",
    "df['admission_day_of_illness'] = df['admission_date'] - df['symptom_onset_date']"
   ]
  },
  {
   "cell_type": "code",
   "execution_count": null,
   "metadata": {},
   "outputs": [],
   "source": [
    "#Function to extract electrolyte \n",
    "\n",
    "def electrolyte_df(df, cols, electrolyte): \n",
    "    electrolyte_list = ['annonymous_code','death']\n",
    "    \n",
    "    for i in range(1, cols): \n",
    "        electrolyte_list.append(f'{electrolyte}_{i}')\n",
    "        \n",
    "    dataframe = df[electrolyte_list]\n",
    "    \n",
    "    return(dataframe)\n"
   ]
  },
  {
   "cell_type": "code",
   "execution_count": null,
   "metadata": {},
   "outputs": [],
   "source": [
    "#Create a sodium dataframe \n",
    "na = electrolyte_df(df, 30, 'na')"
   ]
  },
  {
   "cell_type": "code",
   "execution_count": null,
   "metadata": {},
   "outputs": [],
   "source": [
    "#Harmonise the dataframe according to date of illness (rather than date of admission)\n",
    "\n",
    "#First create an empty dictionary for each patient (patient as key, value as sodium value for each day since symptom onset)\n",
    "na_dict =  {}\n",
    "\n",
    "for i in range(0,101):\n",
    "    na_dict[f'patient_{i}'] = {}\n",
    "    for j in range(1, 53): \n",
    "        na_dict[f'patient_{i}'][f'na_{j}'] = np.nan\n",
    "        \n",
    "#fill in this dictionary \n",
    "for patient in range(0, 101): \n",
    "    \n",
    "    for j in range(1, 30): \n",
    "        if na.loc[patient][f'na_{j}'] is np.nan: \n",
    "            pass\n",
    "        else: \n",
    "            days = 'na_'+str(na.loc[patient]['admission_day_of_illness'].days + (j))\n",
    "            \n",
    "            na_dict[f'patient_{patient}'][days] = na.loc[patient][f'na_{j}']\n",
    "    "
   ]
  },
  {
   "cell_type": "code",
   "execution_count": null,
   "metadata": {},
   "outputs": [],
   "source": [
    "#convert dictionary to dataframe transpose dataframe\n",
    "correct_na = pd.DataFrame(na_dict).transpose()"
   ]
  },
  {
   "cell_type": "code",
   "execution_count": null,
   "metadata": {},
   "outputs": [],
   "source": [
    "#Add some severity markers to harmonised electrolyte dataframe \n",
    "correct_na['severe'] = df['severe'].values\n",
    "correct_na['itu_admission'] = df['itu_admission'].values\n",
    "correct_na['dm'] = df['dm'].values \n",
    "correct_na['htn'] = df['htn'].values"
   ]
  },
  {
   "cell_type": "code",
   "execution_count": null,
   "metadata": {},
   "outputs": [],
   "source": [
    "#display dataframe\n",
    "correct_na"
   ]
  },
  {
   "cell_type": "code",
   "execution_count": null,
   "metadata": {},
   "outputs": [],
   "source": [
    "#Graph according to severity of infection \n",
    "\n",
    "#Define severity and other markers \n",
    "severe_m = correct_na['severe'] == 1\n",
    "non_severe_m = correct_na['severe'] == 0 \n",
    "\n",
    "severe = correct_na[severe_m]\n",
    "non_severe = correct_na[non_severe_m]\n",
    "\n",
    "itu_y = correct_na['itu_admission']==1\n",
    "itu = correct_na[itu_y]\n",
    "no_itu_m = correct_na['itu_admission']==0 \n",
    "no_itu = correct_na[no_itu_m]\n",
    "\n",
    "#in this instance we will just segregate according to severity of infection \n",
    "#severe.loc['mean'] = severe.mean()\n",
    "#non_severe.loc['mean'] = non_severe.mean()\n",
    "severe.loc['median'] = severe.median()\n",
    "non_severe.loc['median']=non_severe.median()\n",
    "#itu.loc['mean']=itu.mean()\n",
    "itu.loc['median']=itu.median()\n",
    "#no_itu.loc['mean']=no_itu.mean()\n",
    "no_itu.loc['median'] = no_itu.median()"
   ]
  },
  {
   "cell_type": "code",
   "execution_count": null,
   "metadata": {},
   "outputs": [],
   "source": [
    "#Graph generation\n",
    "severe.drop(columns=['severe','severe','itu_admission', 'dm', 'htn', 'white']).loc['median'].plot(kind='line', label='Severe')\n",
    "non_severe.drop(columns=['severe','severe', 'itu_admission','dm', 'htn', 'white']).loc['median'].plot(kind='line', label='Mild')\n",
    "plt.legend()\n",
    "plt.axhline(y=136, color='r', linestyle='--', label='lower limit of normal')\n",
    "plt.axhline(y=142, color='r', linestyle='--', label='upper limit of normal')\n",
    "plt.xlabel('Days from symptom onset')\n",
    "plt.ylabel('Sodium (mmol/L)')\n",
    "plt.title('Median Sodium since symptom onset')\n",
    "plt.savefig('sodium.png')"
   ]
  },
  {
   "cell_type": "code",
   "execution_count": null,
   "metadata": {},
   "outputs": [],
   "source": [
    "#Show graph with individual patient trends in electrolyte \n",
    "ax = plt.figure(figsize=(20,10))\n",
    "\n",
    "for i in range(2, 101): \n",
    "    \n",
    "    ax = correct_na.loc['median'][:-4].plot(legend=False, color='b', linewidth=3)\n",
    "    \n",
    "    if correct_na.loc[f'patient_{i}']['severe'] == 1.0:  \n",
    "        \n",
    "        ax = correct_na.loc[f'patient_{i}'][:-4].plot(legend=False, color='r', alpha=0.5, linewidth=2)\n",
    "        \n",
    "    else: \n",
    "        \n",
    "        ax =  correct_na.loc[f'patient_{i}'][:-4].plot(legend=False, color='g')\n",
    "\n",
    "ax.set_xlabel(\"Day\")\n",
    "ax.set_ylabel(\"Sodium\")\n",
    "ax.set_title('Sodium in patients with covid infection')\n",
    "plt.savefig('sodium.png')\n",
    "plt.ylim(120, 200)"
   ]
  },
  {
   "cell_type": "code",
   "execution_count": null,
   "metadata": {},
   "outputs": [],
   "source": []
  },
  {
   "cell_type": "code",
   "execution_count": null,
   "metadata": {},
   "outputs": [],
   "source": []
  }
 ],
 "metadata": {
  "kernelspec": {
   "display_name": "Python 3",
   "language": "python",
   "name": "python3"
  },
  "language_info": {
   "codemirror_mode": {
    "name": "ipython",
    "version": 3
   },
   "file_extension": ".py",
   "mimetype": "text/x-python",
   "name": "python",
   "nbconvert_exporter": "python",
   "pygments_lexer": "ipython3",
   "version": "3.7.4"
  }
 },
 "nbformat": 4,
 "nbformat_minor": 4
}
